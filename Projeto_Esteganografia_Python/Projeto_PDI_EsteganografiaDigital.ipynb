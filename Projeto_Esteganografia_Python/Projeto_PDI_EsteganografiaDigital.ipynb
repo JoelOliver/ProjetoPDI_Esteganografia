{
 "cells": [
  {
   "cell_type": "markdown",
   "metadata": {},
   "source": [
    "# Projeto de Processamento Digital de Imagens - Esteganografia"
   ]
  },
  {
   "cell_type": "markdown",
   "metadata": {},
   "source": [
    "## 1. Equipe\n",
    "- Joel Oliveira Ribeiro\n",
    "- Matheus Mendes\n",
    "- Vanessa Rodrigues\n",
    "- Sérgio Luis\n",
    "\n",
    "## 2. Introdução  \n",
    "### 2.1. Breve explicação\n",
    "\n",
    "A esteganografia digital consiste em ocultar informações (arquivos, imagens, audios e etc) em outros arquivos. No nosso caso, iremos ocultar as informações em outras imagens.\n",
    "\n",
    "fonte : https://www.vivaolinux.com.br/artigo/Esteganografia-e-Esteganalise-transmissao-e-deteccao-de-informacoes-ocultas-em-imagens-digitais"
   ]
  },
  {
   "cell_type": "markdown",
   "metadata": {},
   "source": [
    "### 2.2 Por que utilizamos Python ?\n",
    "\n",
    "Optamos por utilizar a linguagem Python em nosso trabalho por possuir poderosas bibliotecas de manipulações gráficas como a PIL (Python Image Library) e o OpenCV nas quais ajudarão no processamento de imagens , além de muitas outras tais como Numpy, Matplotlib e etc ... "
   ]
  },
  {
   "cell_type": "code",
   "execution_count": null,
   "metadata": {
    "collapsed": true
   },
   "outputs": [],
   "source": [
    "# Importando algumas das bibliotecas que serão úteis para apresentação desse trabalho \n",
    "\n",
    "% matplotlib inline\n",
    "\n",
    "import numpy as np\n",
    "import pylab as plb\n",
    "import cv2\n",
    "from matplotlib import pyplot as plt "
   ]
  },
  {
   "cell_type": "markdown",
   "metadata": {},
   "source": [
    "## 3. Procedimento\n",
    "### 3.1 Imagem a ser utilizada "
   ]
  },
  {
   "cell_type": "code",
   "execution_count": null,
   "metadata": {},
   "outputs": [],
   "source": [
    "# Carregando a imagem escolhida para que seja utilizada para ocultar informações\n",
    "imgRGB = cv2.imread('thor_ragnarok.jpg')\n",
    "imgRGB = cv2.cvtColor(imgRGB, cv2.COLOR_BGR2RGB)\n",
    "\n",
    "# mostrando a imagem\n",
    "plb.figure(figsize=(10,10))\n",
    "plb.title('Imagem em RGB')\n",
    "plb.imshow(imgRGB) ; plb.axis('off') ; #plb.colorbar()"
   ]
  },
  {
   "cell_type": "markdown",
   "metadata": {},
   "source": [
    "* Algumas informações que podemos extrair da imagem"
   ]
  },
  {
   "cell_type": "code",
   "execution_count": null,
   "metadata": {},
   "outputs": [],
   "source": [
    "#1. Tamanho da imagem\n",
    "print(imgRGB.shape) # dimensão\n",
    "\n",
    "#2. Tipo da imagem\n",
    "print(imgRGB.dtype) # tipo"
   ]
  },
  {
   "cell_type": "code",
   "execution_count": null,
   "metadata": {},
   "outputs": [],
   "source": [
    "#3. Mostrando as matrizes R , G , B separadamente \n",
    "\n",
    "plb.figure(); plb.imshow(imgRGB[:,:,0],cmap='Reds');   plb.colorbar();   plb.title('Imagem R')  \n",
    "\n",
    "plb.figure(); plb.imshow(imgRGB[:,:,1],cmap='Greens'); plb.colorbar();   plb.title('Imagem G') \n",
    "\n",
    "plb.figure(); plb.imshow(imgRGB[:,:,2],cmap='Blues');  plb.colorbar();    plb.title('Imagem B') "
   ]
  },
  {
   "cell_type": "markdown",
   "metadata": {},
   "source": [
    "## 4. Metodologia\n",
    "### 4. 1. Least Significant Bit\n",
    "\n",
    "O processo de esteganografia digital em uma imagem consiste na modificação de alguns bits que compõem cada pixel, para que passem a armazenar alguns bits do dado/arquivo que será embutido. Podemos utilizar o bit menos significativo (LSB) , pois quando modificado produz alterações mínimas nas cores da imagem."
   ]
  },
  {
   "cell_type": "code",
   "execution_count": null,
   "metadata": {
    "collapsed": true
   },
   "outputs": [],
   "source": []
  },
  {
   "cell_type": "code",
   "execution_count": null,
   "metadata": {
    "collapsed": true
   },
   "outputs": [],
   "source": []
  },
  {
   "cell_type": "markdown",
   "metadata": {},
   "source": [
    "## HANDS-On"
   ]
  },
  {
   "cell_type": "code",
   "execution_count": null,
   "metadata": {},
   "outputs": [],
   "source": [
    "imgColored = plb.imread('thor_ragnarok.jpg',1)\n",
    "#img = cv2.imread('thor_ragnarok.jpg')\n",
    "\n",
    "#plb.figure(figsize=(10,8))\n",
    "\n",
    "#plb.imshow(imgColored) ; axis = plb.axis('off')\n",
    "\n",
    "imgGray = cv2.cvtColor(imgColored, cv2.COLOR_BGR2GRAY)\n",
    "\n",
    "#plb.figure()\n",
    "#plb.imshow(imgColored) ; axis = plb.axis('off')\n",
    "\n",
    "#plb.figure()\n",
    "#plb.imshow(imgGray, cmap='gray') # É preciso definir o *colormap* desejado!\n",
    "\n",
    "plb.figure(figsize=(16,12))\n",
    "\n",
    "plb.subplot(1,2,1)\n",
    "plb.imshow(imgColored)\n",
    "plb.axis('off')\n",
    "plb.title('Imagem em RGB')\n",
    "\n",
    "plb.subplot(1,2,2)\n",
    "plb.imshow(imgGray, cmap='gray')\n",
    "plb.axis('off')\n",
    "plb.title('Imagem em Gray Scale')\n"
   ]
  },
  {
   "cell_type": "code",
   "execution_count": null,
   "metadata": {
    "collapsed": true
   },
   "outputs": [],
   "source": []
  }
 ],
 "metadata": {
  "kernelspec": {
   "display_name": "Python 3",
   "language": "python",
   "name": "python3"
  },
  "language_info": {
   "codemirror_mode": {
    "name": "ipython",
    "version": 3
   },
   "file_extension": ".py",
   "mimetype": "text/x-python",
   "name": "python",
   "nbconvert_exporter": "python",
   "pygments_lexer": "ipython3",
   "version": "3.6.1"
  }
 },
 "nbformat": 4,
 "nbformat_minor": 2
}
